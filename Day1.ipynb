{
 "cells": [
  {
   "cell_type": "code",
   "execution_count": 5,
   "id": "76d2999e",
   "metadata": {},
   "outputs": [
    {
     "name": "stdout",
     "output_type": "stream",
     "text": [
      "Calculate Shape Area\n",
      "Enter the shape whose area you want to find: rectangle\n",
      "Enter rectangle's length: 5\n",
      "Enter rectangle's breadth: 4\n",
      "The area of rectangle is 20.\n"
     ]
    }
   ],
   "source": [
    "def calculate_area(name):\\\n",
    "   \n",
    "  # converting all characters\n",
    "  # into lower cases\n",
    "  name = name.lower()\n",
    "   \n",
    "  # check for the conditions\n",
    "  if name == \"rectangle\":\n",
    "    l = int(input(\"Enter rectangle's length: \"))\n",
    "    b = int(input(\"Enter rectangle's breadth: \"))\n",
    "     \n",
    "    # calculate area of rectangle\n",
    "    rect_area = l * b\n",
    "    print(f\"The area of rectangle is {rect_area}.\")\n",
    "   \n",
    "  elif name == \"square\":\n",
    "    s = int(input(\"Enter square's side length: \"))\n",
    "       \n",
    "    # calculate area of square\n",
    "    sqt_area = s * s\n",
    "    print(f\"The area of square is {sqt_area}.\")\n",
    " \n",
    "  elif name == \"triangle\":\n",
    "    h = int(input(\"Enter triangle's height length: \"))\n",
    "    b = int(input(\"Enter triangle's breadth length: \"))\n",
    "       \n",
    "    # calculate area of triangle\n",
    "    tri_area = 0.5 * b * h\n",
    "    print(f\"The area of triangle is {tri_area}.\")\n",
    " \n",
    "  elif name == \"circle\":\n",
    "    r = int(input(\"Enter circle's radius length: \"))\n",
    "    pi = 3.14\n",
    "         \n",
    "    # calculate area of circle\n",
    "    circ_area = pi * r * r\n",
    "    print(f\"The area of circle is {circ_area}.\")\n",
    "         \n",
    "  elif name == 'parallelogram':\n",
    "    b = int(input(\"Enter parallelogram's base length: \"))\n",
    "    h = int(input(\"Enter parallelogram's height length: \"))\n",
    "     \n",
    "    # calculate area of parallelogram\n",
    "    para_area = b * h\n",
    "    print(f\"The area of parallelogram is {para_area}.\")\n",
    "     \n",
    "  else:\n",
    "    print(\"Sorry! This shape is not available\")\n",
    " \n",
    "# driver code\n",
    "if __name__ == \"__main__\" :\n",
    "   \n",
    "  print(\"Calculate Shape Area\")\n",
    "  shape_name = input(\"Enter the name of shape whose area you want to find: \")\n",
    "   \n",
    "  # function calling\n",
    "  calculate_area(shape_name)"
   ]
  },
  {
   "cell_type": "code",
   "execution_count": null,
   "id": "fe1b70e2",
   "metadata": {},
   "outputs": [],
   "source": []
  }
 ],
 "metadata": {
  "kernelspec": {
   "display_name": "Python 3 (ipykernel)",
   "language": "python",
   "name": "python3"
  },
  "language_info": {
   "codemirror_mode": {
    "name": "ipython",
    "version": 3
   },
   "file_extension": ".py",
   "mimetype": "text/x-python",
   "name": "python",
   "nbconvert_exporter": "python",
   "pygments_lexer": "ipython3",
   "version": "3.9.13"
  }
 },
 "nbformat": 4,
 "nbformat_minor": 5
}
